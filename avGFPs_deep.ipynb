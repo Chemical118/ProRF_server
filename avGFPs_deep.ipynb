{
 "cells": [
  {
   "cell_type": "code",
   "execution_count": null,
   "metadata": {
    "collapsed": false,
    "pycharm": {
     "name": "#%%\n"
    }
   },
   "outputs": [],
   "source": [
    "include(\"load_save.jl\")\n",
    "R, X, Y, L, MF, SF, Y, PY = load_small_dataset(\"avGFPs\", 'B', val_mode=true)\n",
    "R1, X1, Y1, L1, MF1, SF1, Y1, PY1 = load_small_dataset(\"avGFPs\", 'C', val_mode=true)\n",
    "M = load_dataset_model(\"avGFPs\", 'B')\n",
    "M1 = load_dataset_model(\"avGFPs\", 'C')\n",
    "\n",
    "function findnearest(A::Vector{Float64}, val::Real)\n",
    "    return findmin(abs.(A .- val))[2]\n",
    "end\n",
    "\n",
    "using PyPlot, FASTX, Combinatorics, ProRF, JLD2, Pandas, Seaborn, XLSX"
   ]
  },
  {
   "cell_type": "code",
   "execution_count": null,
   "metadata": {
    "collapsed": false,
    "pycharm": {
     "name": "#%%\n"
    }
   },
   "outputs": [],
   "source": [
    "NMF = MF ./ maximum(MF) + MF1 ./ maximum(MF1)\n",
    "view_importance(R, L, NMF, show_number=30)"
   ]
  },
  {
   "cell_type": "code",
   "execution_count": null,
   "metadata": {
    "collapsed": false,
    "pycharm": {
     "name": "#%%\n"
    }
   },
   "outputs": [],
   "source": [
    "NL = Vector{String}()\n",
    "for l in L\n",
    "    nl = parse(Int, l[1:end-1])\n",
    "    if nl ∈ [65, 72, 203]\n",
    "        push!(NL, \"**\" * l)\n",
    "    elseif nl ∈ [18, 27, 29, 57, 60, 61, 64, 66, 67, 146, 148, 168, 205, 222]\n",
    "        push!(NL, \"*\" * l)\n",
    "    else\n",
    "        push!(NL, l)\n",
    "    end\n",
    "end\n",
    "\n",
    "tag = Vector{String}()\n",
    "for l in L\n",
    "    nl = parse(Int, l[1:end-1])\n",
    "    if nl ∈ [18, 27, 29, 57, 60, 61, 64, 65, 66, 67, 146, 148, 168, 203, 205, 222]\n",
    "        push!(tag, \"Interacting\\nchromophores site\")\n",
    "    else\n",
    "        push!(tag, \"Remains\")\n",
    "    end\n",
    "end\n",
    "data = Pandas.DataFrame(Dict(\"Feature Importance\" => NMF, \"AA type\" => tag));"
   ]
  },
  {
   "cell_type": "code",
   "execution_count": null,
   "metadata": {
    "collapsed": false,
    "pycharm": {
     "name": "#%%\n"
    }
   },
   "outputs": [],
   "source": [
    "view_importance(R, NL, NMF, show_number=30)\n",
    "data[\"all\"] = \"\"\n",
    "set_theme(style=\"whitegrid\", palette=\"tab10\")\n",
    "violinplot(x=\"all\", y=\"Feature Importance\", hue=\"AA type\", inner=\"quartile\", data=data, split=true, bw=0.4, cut=0)\n",
    "xlabel(\"\")\n",
    "display(gcf())\n",
    "close(\"all\")\n",
    "matplotlib.rc_file_defaults()"
   ]
  },
  {
   "cell_type": "code",
   "execution_count": null,
   "metadata": {
    "collapsed": false,
    "pycharm": {
     "name": "#%%\n"
    }
   },
   "outputs": [],
   "source": [
    "PyPlot.hist(Y, bins=40)\n",
    "ProRF.@show_pyplot"
   ]
  },
  {
   "cell_type": "code",
   "execution_count": null,
   "metadata": {
    "collapsed": false,
    "pycharm": {
     "name": "#%%\n"
    }
   },
   "outputs": [],
   "source": [
    "NumL = get_amino_loc(L)\n",
    "num_dict = Int(length(L) / length(NumL))\n",
    "value_matrix = reshape(NMF, (num_dict, Int(length(NMF) / num_dict)))' ./ maximum(NMF)\n",
    "sort_idx = sortperm(maximum(value_matrix, dims=2)[:, 1], rev=true)\n",
    "NumL = NumL[sort_idx]\n",
    "NumL = NumL[1:7]"
   ]
  },
  {
   "cell_type": "code",
   "execution_count": null,
   "metadata": {
    "collapsed": false,
    "pycharm": {
     "name": "#%%\n"
    }
   },
   "outputs": [],
   "source": [
    "sort_ind_b = sortperm(Y, rev=true)\n",
    "sort_ind_c = sortperm(Y1, rev=true)\n",
    "\n",
    "ref_sdata_vector = [(FASTA.sequence(String, record), String(FASTA.identifier(record))) for record in open(FASTA.Reader, \"Data/avGFPs/data.fasta\")];"
   ]
  },
  {
   "cell_type": "code",
   "execution_count": null,
   "metadata": {
    "collapsed": false,
    "pycharm": {
     "name": "#%%\n"
    }
   },
   "outputs": [],
   "source": [
    "open(FASTA.Writer, \"AData/alnallseq_b.fasta\") do io\n",
    "    for (seq, id) in ref_sdata_vector[sort_ind_b]\n",
    "        write(io, FASTA.Record(id, seq[NumL]))\n",
    "    end\n",
    "end\n",
    "\n",
    "open(FASTA.Writer, \"AData/alnallseq_c.fasta\") do io\n",
    "    for (seq, id) in ref_sdata_vector[sort_ind_c]\n",
    "        write(io, FASTA.Record(id, seq[NumL]))\n",
    "    end\n",
    "end"
   ]
  },
  {
   "cell_type": "code",
   "execution_count": null,
   "metadata": {
    "collapsed": false,
    "pycharm": {
     "name": "#%%\n"
    }
   },
   "outputs": [],
   "source": [
    "sort_loc = getindex.(sort(collect(zip(L, NMF)), by = x -> x[2], rev=true), 1)\n",
    "tar_loc = sort_loc[findall(x -> |([string(i) == x[1:end-1] for i in NumL]...), sort_loc)]\n",
    "tar_ind = [findfirst(isequal(i), L) for i in tar_loc]\n",
    "X[:, tar_ind];"
   ]
  },
  {
   "cell_type": "code",
   "execution_count": null,
   "metadata": {
    "collapsed": false,
    "pycharm": {
     "name": "#%%\n"
    }
   },
   "outputs": [],
   "source": [
    "star_ind = tar_ind"
   ]
  },
  {
   "cell_type": "code",
   "execution_count": null,
   "metadata": {
    "collapsed": false,
    "pycharm": {
     "name": "#%%\n"
    }
   },
   "outputs": [],
   "source": [
    "clipboard(\"select imp, resi \" * join(string.(NumL), '+'))"
   ]
  },
  {
   "cell_type": "code",
   "execution_count": null,
   "metadata": {
    "collapsed": false,
    "pycharm": {
     "name": "#%%\n"
    }
   },
   "outputs": [],
   "source": [
    "seqdata_vector = [(String(FASTA.description(record)), FASTA.sequence(String, record)) for record in open(FASTA.Reader, R.fasta_loc)]\n",
    "main_seq = seqdata_vector[findfirst(x -> x[1] == \"avGFP\", seqdata_vector)][2]"
   ]
  },
  {
   "cell_type": "code",
   "execution_count": null,
   "metadata": {
    "collapsed": false,
    "pycharm": {
     "name": "#%%\n"
    }
   },
   "outputs": [],
   "source": [
    "d123[main_seq[65]], d123[main_seq[66]], d123[main_seq[67]]"
   ]
  },
  {
   "cell_type": "code",
   "execution_count": null,
   "metadata": {
    "collapsed": false,
    "pycharm": {
     "name": "#%%\n"
    }
   },
   "outputs": [],
   "source": [
    "collect(map(x -> d123[main_seq[x]], NumL))"
   ]
  },
  {
   "cell_type": "code",
   "execution_count": null,
   "metadata": {
    "collapsed": false,
    "pycharm": {
     "name": "#%%\n"
    }
   },
   "outputs": [],
   "source": [
    "seq_vector = [collect(FASTA.sequence(String, record)) for record in open(FASTA.Reader, R.fasta_loc)]\n",
    "aa_vector = ['M', 'P', 'K', 'Q', 'I', 'H', 'E', 'W', 'T', 'S', 'C', 'D', 'A', 'L', 'Y', 'V', 'R', 'G', 'N', 'F'];"
   ]
  },
  {
   "cell_type": "code",
   "execution_count": null,
   "metadata": {
    "collapsed": false,
    "pycharm": {
     "name": "#%%\n"
    }
   },
   "outputs": [],
   "source": [
    "last_mut_number = 2\n",
    "mut_seq_vector = Vector{String}()\n",
    "\n",
    "for seq in seq_vector\n",
    "    for mut_number in 1:last_mut_number\n",
    "        for residue_vector in combinations(NumL, mut_number)\n",
    "            total_aa_vector = Vector{Vector{Char}}()\n",
    "            for residue in residue_vector\n",
    "                push!(total_aa_vector, filter(x -> x ≠ seq[residue], aa_vector))\n",
    "            end\n",
    "            \n",
    "            for mut_vector in Iterators.product(total_aa_vector...)\n",
    "                ref_seq = deepcopy(seq)\n",
    "                for (mut, res) in zip(mut_vector, residue_vector)\n",
    "                    ref_seq[res] = mut\n",
    "                end\n",
    "                push!(mut_seq_vector, join(ref_seq))\n",
    "            end\n",
    "        end\n",
    "    end\n",
    "end"
   ]
  },
  {
   "cell_type": "code",
   "execution_count": null,
   "metadata": {
    "collapsed": false,
    "pycharm": {
     "name": "#%%\n"
    }
   },
   "outputs": [],
   "source": [
    "NumL = NumL[sort_idx]"
   ]
  },
  {
   "cell_type": "code",
   "execution_count": null,
   "metadata": {
    "collapsed": false,
    "pycharm": {
     "name": "#%%\n"
    }
   },
   "outputs": [],
   "source": [
    "@load \"AData/save_data.JLD2\" mut_seq_vector pre_vector_b pre_vector_c"
   ]
  },
  {
   "cell_type": "code",
   "execution_count": null,
   "metadata": {
    "collapsed": false,
    "pycharm": {
     "name": "#%%\n"
    }
   },
   "outputs": [],
   "source": [
    "@save \"AData/save_data.JLD2\" mut_seq_vector pre_vector_b pre_vector_c Xt"
   ]
  }
 ],
 "metadata": {
  "kernelspec": {
   "display_name": "Julia 1.8.1",
   "language": "julia",
   "name": "julia-1.8"
  },
  "language_info": {
   "file_extension": ".jl",
   "mimetype": "application/julia",
   "name": "julia",
   "version": "1.8.1"
  },
  "orig_nbformat": 4,
  "vscode": {
   "interpreter": {
    "hash": "5426b8edaad46d1586b466069054bf7aeb1321c89a3305187680d2ee93f599db"
   }
  }
 },
 "nbformat": 4,
 "nbformat_minor": 2
}
