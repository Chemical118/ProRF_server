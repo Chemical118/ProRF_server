{
 "cells": [
  {
   "cell_type": "code",
   "execution_count": null,
   "metadata": {},
   "outputs": [],
   "source": [
    "data_vector = Vector{Tuple{String, Char, Int, Int, Int}}([\n",
    "    (\"AB\", 'B', 6, 1000, 60),\n",
    "    (\"avGFP\", 'B', 8, 400, 270),\n",
    "    (\"GB1\", 'C', 7, 500, 190),\n",
    "    (\"GB1p\", 'F', 3, 1400, 14),\n",
    "    (\"gGB1\", 'B', 10, 2000, -1),\n",
    "    (\"Pab1\", 'B', 2, 200, 150),\n",
    "    (\"TDP43\", 'B', 9, 200, 160),\n",
    "    (\"Ube4b\", 'B', 2, 400, 110),\n",
    "])"
   ]
  },
  {
   "cell_type": "code",
   "execution_count": null,
   "metadata": {},
   "outputs": [],
   "source": [
    "include(\"setting.jl\")\n",
    "using ProRF, Printf\n",
    "function load_big_dataset(data::Tuple{String, Char, Int, Int, Int})\n",
    "    dataset, col, feat, tree, mdep = data\n",
    "    R = RF(\"Data/\" * dataset)\n",
    "    X, Y, L = get_data(R, col, norm=true)\n",
    "    @load (@sprintf \"Save/big/%s_%c.jld2\" dataset col) F Y PY\n",
    "    return R, X, Y, L, F, Y, PY\n",
    "end"
   ]
  },
  {
   "cell_type": "code",
   "execution_count": null,
   "metadata": {},
   "outputs": [],
   "source": [
    "R, X, Y, L, F, Y, PY = load_big_dataset(data_vector[1])"
   ]
  },
  {
   "cell_type": "code",
   "execution_count": null,
   "metadata": {},
   "outputs": [],
   "source": [
    "view_result(PY, Y, data_state)"
   ]
  },
  {
   "cell_type": "code",
   "execution_count": null,
   "metadata": {},
   "outputs": [],
   "source": [
    "view_importance(R, L, F, show_number=30)"
   ]
  }
 ],
 "metadata": {
  "kernelspec": {
   "display_name": "Julia 1.7.3",
   "language": "julia",
   "name": "julia-1.7"
  },
  "language_info": {
   "file_extension": ".jl",
   "mimetype": "application/julia",
   "name": "julia",
   "version": "1.7.3"
  },
  "orig_nbformat": 4
 },
 "nbformat": 4,
 "nbformat_minor": 2
}
