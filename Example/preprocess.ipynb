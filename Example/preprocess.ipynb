{
 "cells": [
  {
   "cell_type": "markdown",
   "metadata": {},
   "source": [
    "## TDP43 preprocessing example\n",
    "\n",
    "**Reference** : Bolognesi, B., Faure, A. J., Seuma, M., Schmiedel, J. M., Tartaglia, G. G., & Lehner, B. (2019, September 13). The mutational landscape of a prion-like domain. _Nature Communications_. Springer Science and Business Media LLC. [https://doi.org/10.1038/s41467-019-12101-z](https://doi.org/10.1038/s41467-019-12101-z)"
   ]
  },
  {
   "cell_type": "code",
   "execution_count": 1,
   "metadata": {},
   "outputs": [],
   "source": [
    "# import moudle\n",
    "from Bio import SeqIO\n",
    "from Bio.Seq import Seq\n",
    "from Bio.SeqRecord import SeqRecord\n",
    "from openpyxl import Workbook\n",
    "\n",
    "import urllib\n",
    "import pandas as pd"
   ]
  },
  {
   "cell_type": "code",
   "execution_count": 2,
   "metadata": {},
   "outputs": [
    {
     "data": {
      "text/plain": [
       "('Data/rawdata.xlsx', <http.client.HTTPMessage at 0x274706b3880>)"
      ]
     },
     "execution_count": 2,
     "metadata": {},
     "output_type": "execute_result"
    }
   ],
   "source": [
    "# download raw dataset\n",
    "url = \"https://github.com/jbkinney/mavenn/blob/master/mavenn/examples/datasets/raw/tdp-43_raw.xlsx?raw=true\"\n",
    "excel_loc = \"Data/rawdata.xlsx\"\n",
    "save_excel_loc = \"Data/data.xlsx\"\n",
    "urllib.request.urlretrieve(url, excel_loc)"
   ]
  },
  {
   "cell_type": "code",
   "execution_count": 3,
   "metadata": {},
   "outputs": [],
   "source": [
    "# reference sequence\n",
    "seq = \"GNSRGGGAGLGNNQGSNMGGGMNFGAFSINPAMMAAAQAALQSSWGMMGMLASQQNQSGPSGNNQNQGNMQREPNQAFGSGNNS\"\n",
    "ref = list(seq)"
   ]
  },
  {
   "cell_type": "code",
   "execution_count": 4,
   "metadata": {},
   "outputs": [],
   "source": [
    "# excel to dataframe\n",
    "single_mut_df = pd.read_excel(excel_loc, sheet_name=\"1 AA change\")\n",
    "double_mut_df = pd.read_excel(excel_loc, sheet_name=\"2 AA change\")\n",
    "\n",
    "# delete stop codoon row\n",
    "single_mut_df = single_mut_df.loc[single_mut_df[\"STOP\"] == False]\n",
    "double_mut_df = double_mut_df.loc[double_mut_df[\"STOP\"] == False]\n",
    "\n",
    "# select data coloumn\n",
    "single_mut_df = single_mut_df[[\"toxicity\", \"sigma\", \"mut_code\"]]\n",
    "double_mut_df = double_mut_df[[\"toxicity_cond\", \"sigma_cond\", \"mut_code1\", \"mut_code2\"]]"
   ]
  },
  {
   "cell_type": "code",
   "execution_count": 5,
   "metadata": {},
   "outputs": [
    {
     "data": {
      "text/html": [
       "<div>\n",
       "<style scoped>\n",
       "    .dataframe tbody tr th:only-of-type {\n",
       "        vertical-align: middle;\n",
       "    }\n",
       "\n",
       "    .dataframe tbody tr th {\n",
       "        vertical-align: top;\n",
       "    }\n",
       "\n",
       "    .dataframe thead th {\n",
       "        text-align: right;\n",
       "    }\n",
       "</style>\n",
       "<table border=\"1\" class=\"dataframe\">\n",
       "  <thead>\n",
       "    <tr style=\"text-align: right;\">\n",
       "      <th></th>\n",
       "      <th>toxicity</th>\n",
       "      <th>sigma</th>\n",
       "      <th>mut_code</th>\n",
       "    </tr>\n",
       "  </thead>\n",
       "  <tbody>\n",
       "    <tr>\n",
       "      <th>0</th>\n",
       "      <td>0.032210</td>\n",
       "      <td>0.037438</td>\n",
       "      <td>G290N</td>\n",
       "    </tr>\n",
       "    <tr>\n",
       "      <th>1</th>\n",
       "      <td>-0.009898</td>\n",
       "      <td>0.038981</td>\n",
       "      <td>G290T</td>\n",
       "    </tr>\n",
       "    <tr>\n",
       "      <th>2</th>\n",
       "      <td>-0.010471</td>\n",
       "      <td>0.005176</td>\n",
       "      <td>G290R</td>\n",
       "    </tr>\n",
       "    <tr>\n",
       "      <th>3</th>\n",
       "      <td>0.030803</td>\n",
       "      <td>0.005341</td>\n",
       "      <td>G290S</td>\n",
       "    </tr>\n",
       "    <tr>\n",
       "      <th>4</th>\n",
       "      <td>-0.054716</td>\n",
       "      <td>0.035752</td>\n",
       "      <td>G290I</td>\n",
       "    </tr>\n",
       "  </tbody>\n",
       "</table>\n",
       "</div>"
      ],
      "text/plain": [
       "   toxicity     sigma mut_code\n",
       "0  0.032210  0.037438    G290N\n",
       "1 -0.009898  0.038981    G290T\n",
       "2 -0.010471  0.005176    G290R\n",
       "3  0.030803  0.005341    G290S\n",
       "4 -0.054716  0.035752    G290I"
      ]
     },
     "execution_count": 5,
     "metadata": {},
     "output_type": "execute_result"
    }
   ],
   "source": [
    "single_mut_df.head()"
   ]
  },
  {
   "cell_type": "code",
   "execution_count": 6,
   "metadata": {},
   "outputs": [],
   "source": [
    "data_list = []\n",
    "seq_list = []\n",
    "for ind, y, dy, mstr in single_mut_df.itertuples():\n",
    "    l = int(mstr[1:-1]) - 289\n",
    "    if ref[l - 1] != mstr[0]:\n",
    "        exit(-1)\n",
    "    ref_seq = ref[:]\n",
    "    ref_seq[l - 1] = mstr[-1]\n",
    "    seq_list.append(''.join(ref_seq))\n",
    "    data_list.append((mstr, y, dy))"
   ]
  },
  {
   "cell_type": "code",
   "execution_count": 7,
   "metadata": {},
   "outputs": [
    {
     "data": {
      "text/html": [
       "<div>\n",
       "<style scoped>\n",
       "    .dataframe tbody tr th:only-of-type {\n",
       "        vertical-align: middle;\n",
       "    }\n",
       "\n",
       "    .dataframe tbody tr th {\n",
       "        vertical-align: top;\n",
       "    }\n",
       "\n",
       "    .dataframe thead th {\n",
       "        text-align: right;\n",
       "    }\n",
       "</style>\n",
       "<table border=\"1\" class=\"dataframe\">\n",
       "  <thead>\n",
       "    <tr style=\"text-align: right;\">\n",
       "      <th></th>\n",
       "      <th>toxicity_cond</th>\n",
       "      <th>sigma_cond</th>\n",
       "      <th>mut_code1</th>\n",
       "      <th>mut_code2</th>\n",
       "    </tr>\n",
       "  </thead>\n",
       "  <tbody>\n",
       "    <tr>\n",
       "      <th>4458</th>\n",
       "      <td>0.045753</td>\n",
       "      <td>0.025523</td>\n",
       "      <td>G290A</td>\n",
       "      <td>N291D</td>\n",
       "    </tr>\n",
       "    <tr>\n",
       "      <th>4459</th>\n",
       "      <td>-0.010535</td>\n",
       "      <td>0.022647</td>\n",
       "      <td>G290A</td>\n",
       "      <td>N291H</td>\n",
       "    </tr>\n",
       "    <tr>\n",
       "      <th>4460</th>\n",
       "      <td>0.003815</td>\n",
       "      <td>0.019993</td>\n",
       "      <td>G290A</td>\n",
       "      <td>N291I</td>\n",
       "    </tr>\n",
       "    <tr>\n",
       "      <th>4461</th>\n",
       "      <td>0.029509</td>\n",
       "      <td>0.025855</td>\n",
       "      <td>G290A</td>\n",
       "      <td>N291K</td>\n",
       "    </tr>\n",
       "    <tr>\n",
       "      <th>4462</th>\n",
       "      <td>0.011349</td>\n",
       "      <td>0.016745</td>\n",
       "      <td>G290A</td>\n",
       "      <td>N291S</td>\n",
       "    </tr>\n",
       "  </tbody>\n",
       "</table>\n",
       "</div>"
      ],
      "text/plain": [
       "      toxicity_cond  sigma_cond mut_code1 mut_code2\n",
       "4458       0.045753    0.025523     G290A     N291D\n",
       "4459      -0.010535    0.022647     G290A     N291H\n",
       "4460       0.003815    0.019993     G290A     N291I\n",
       "4461       0.029509    0.025855     G290A     N291K\n",
       "4462       0.011349    0.016745     G290A     N291S"
      ]
     },
     "execution_count": 7,
     "metadata": {},
     "output_type": "execute_result"
    }
   ],
   "source": [
    "double_mut_df.head()"
   ]
  },
  {
   "cell_type": "code",
   "execution_count": 8,
   "metadata": {},
   "outputs": [],
   "source": [
    "for ind, y, dy, mstr, mstr1 in double_mut_df.itertuples():\n",
    "    l = int(mstr[1:-1]) - 289\n",
    "    l1 = int(mstr1[1:-1]) - 289\n",
    "    if ref[l - 1] != mstr[0] or ref[l1 - 1] != mstr1[0]:\n",
    "        exit(-1)\n",
    "    ref_seq = ref[:]\n",
    "    ref_seq[l - 1] = mstr[-1]\n",
    "    ref_seq[l1 - 1] = mstr1[-1]\n",
    "    seq_list.append(''.join(ref_seq))\n",
    "    data_list.append((mstr, y, dy))"
   ]
  },
  {
   "cell_type": "code",
   "execution_count": 9,
   "metadata": {},
   "outputs": [],
   "source": [
    "wb = Workbook()\n",
    "ws = wb.active\n",
    "\n",
    "ws.cell(row=1, column=1).value = \"aaMutations\"\n",
    "ws.cell(row=1, column=2).value = \"toxicity\"\n",
    "ws.cell(row=1, column=3).value = \"dtoxicity\"\n",
    "\n",
    "for ind, (mstr, y, dy) in enumerate(data_list):\n",
    "    ws.cell(row=ind+2, column=1).value = mstr\n",
    "    ws.cell(row=ind+2, column=2).value = y\n",
    "    ws.cell(row=ind+2, column=3).value = dy\n",
    "\n",
    "wb.save(filename=save_excel_loc)"
   ]
  },
  {
   "cell_type": "code",
   "execution_count": null,
   "metadata": {},
   "outputs": [],
   "source": [
    "seqrecord_list = []\n",
    "for seq, (mstr, y, dy) in zip(seq_list, data_list):\n",
    "    seqrecord_list.append(SeqRecord(seq=Seq(seq), id=mstr, name=\"\", description=\"\"))\n",
    "\n",
    "with open(\"Data/data.fasta\", \"w\") as f:\n",
    "    SeqIO.write(seqrecord_list, f, \"fasta\")\n",
    "\n",
    "with open(\"Data/index.txt\", \"w\") as f:\n",
    "    f.write(str(290))"
   ]
  }
 ],
 "metadata": {
  "kernelspec": {
   "display_name": "Python 3.9.13 ('idle')",
   "language": "python",
   "name": "python3"
  },
  "language_info": {
   "codemirror_mode": {
    "name": "ipython",
    "version": 3
   },
   "file_extension": ".py",
   "mimetype": "text/x-python",
   "name": "python",
   "nbconvert_exporter": "python",
   "pygments_lexer": "ipython3",
   "version": "3.9.13"
  },
  "orig_nbformat": 4,
  "vscode": {
   "interpreter": {
    "hash": "ab7ff2261e8ea4ec441e7b76d439d3f93988378210a686899515216b37d10114"
   }
  }
 },
 "nbformat": 4,
 "nbformat_minor": 2
}
