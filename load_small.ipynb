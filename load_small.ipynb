{
 "cells": [
  {
   "cell_type": "code",
   "execution_count": null,
   "metadata": {},
   "outputs": [],
   "source": [
    "data_vector = Vector{Tuple{String, Char, Int, Int, Int}}([\n",
    "    (\"avGFPs\", 'C', 30, 2000, -1),\n",
    "    (\"eqFP578s\", 'C', 12, 2000, -1),\n",
    "    (\"DsReds\", 'C', 10, 2000, -1),\n",
    "    (\"RBs\", 'B', 5, 2000, -1),\n",
    "    (\"RBs\", 'C', 5, 2000, -1),\n",
    "])"
   ]
  },
  {
   "cell_type": "code",
   "execution_count": null,
   "metadata": {},
   "outputs": [],
   "source": [
    "include(\"setting.jl\")\n",
    "using ProRF, Printf\n",
    "function load_small_dataset(data::Tuple{String, Char, Int, Int, Int})\n",
    "    dataset, col, feat, tree, mdep = data\n",
    "    R = RF(\"Data/\" * dataset)\n",
    "    X, Y, L = get_data(R, col, norm=true)\n",
    "    @load (@sprintf \"Save/small/%s_%c.jld2\" dataset col) MZ SZ Y PY\n",
    "    return R, X, Y, L, MZ, SZ, Y, PY\n",
    "end"
   ]
  },
  {
   "cell_type": "code",
   "execution_count": null,
   "metadata": {},
   "outputs": [],
   "source": [
    "R, X, Y, L, MF, SF, Y, PY = load_small_dataset(data_vector[1])"
   ]
  },
  {
   "cell_type": "code",
   "execution_count": null,
   "metadata": {},
   "outputs": [],
   "source": [
    "view_result(PY, Y, data_state)"
   ]
  },
  {
   "cell_type": "code",
   "execution_count": null,
   "metadata": {},
   "outputs": [],
   "source": [
    "view_importance(R, L, MF, SF, show_number=30)"
   ]
  }
 ],
 "metadata": {
  "kernelspec": {
   "display_name": "Julia 1.7.3",
   "language": "julia",
   "name": "julia-1.7"
  },
  "language_info": {
   "file_extension": ".jl",
   "mimetype": "application/julia",
   "name": "julia",
   "version": "1.7.3"
  },
  "orig_nbformat": 4
 },
 "nbformat": 4,
 "nbformat_minor": 2
}
